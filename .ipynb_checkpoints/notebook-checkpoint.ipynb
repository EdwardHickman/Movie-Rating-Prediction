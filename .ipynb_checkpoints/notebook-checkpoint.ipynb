{
 "cells": [
  {
   "cell_type": "code",
   "execution_count": 1,
   "id": "6d4726bf",
   "metadata": {},
   "outputs": [],
   "source": [
    "import pandas as pd\n",
    "import numpy as np\n",
    "import seaborn as sns\n",
    "import matplotlib.pyplot as plt\n",
    "from sklearn.preprocessing import OneHotEncoder\n",
    "from sklearn.preprocessing import LabelEncoder\n",
    "from sklearn.model_selection import train_test_split\n",
    "from sklearn.multioutput import MultiOutputRegressor\n",
    "from sklearn.ensemble import RandomForestRegressor, GradientBoostingRegressor\n",
    "from sklearn.svm import SVR\n",
    "from sklearn.metrics import mean_squared_error\n",
    "from sklearn.linear_model import LinearRegression\n",
    "from sklearn.metrics import r2_score\n",
    "from sklearn.ensemble import VotingRegressor\n",
    "df = pd.read_csv(\"rotten_tomatoes_movies.csv\")"
   ]
  },
  {
   "cell_type": "code",
   "execution_count": 2,
   "id": "4caebf20",
   "metadata": {},
   "outputs": [],
   "source": [
    "df = df.dropna(subset=[\"audienceScore\", \"tomatoMeter\"])"
   ]
  },
  {
   "cell_type": "code",
   "execution_count": 3,
   "id": "c065ada7",
   "metadata": {},
   "outputs": [
    {
     "name": "stderr",
     "output_type": "stream",
     "text": [
      "C:\\Users\\EWH_1\\AppData\\Local\\Temp\\ipykernel_25692\\2530156734.py:2: FutureWarning: Using the level keyword in DataFrame and Series aggregations is deprecated and will be removed in a future version. Use groupby instead. df.sum(level=1) should use df.groupby(level=1).sum().\n",
      "  encoded_genres = pd.get_dummies(df['genre_list'].apply(pd.Series).stack(), drop_first=True).sum(level=0)\n"
     ]
    }
   ],
   "source": [
    "df['genre_list'] = df['genre'].str.split(', ')\n",
    "encoded_genres = pd.get_dummies(df['genre_list'].apply(pd.Series).stack(), drop_first=True).groupby(level=0).sum()\n",
    "df = pd.concat([df, encoded_genres], axis=1)\n",
    "df.drop(['genre', 'genre_list'], axis=1, inplace=True)"
   ]
  },
  {
   "cell_type": "code",
   "execution_count": 4,
   "id": "182c41d2",
   "metadata": {},
   "outputs": [],
   "source": [
    "df.drop(['rating', 'ratingContents'], axis=1, inplace=True)"
   ]
  },
  {
   "cell_type": "code",
   "execution_count": 5,
   "id": "cc9efd79",
   "metadata": {},
   "outputs": [],
   "source": [
    "#combines releaseDateTheaters and releaseDateStreaming\n",
    "df['releaseDateTheaters'] = pd.to_datetime(df['releaseDateTheaters'])\n",
    "df['releaseDateStreaming'] = pd.to_datetime(df['releaseDateStreaming'])\n",
    "df['combinedReleaseDate'] = df['releaseDateTheaters'].fillna(df['releaseDateStreaming'])\n",
    "df['combinedReleaseDate'] = df['combinedReleaseDate'].dt.strftime('%Y-%m-%d')\n",
    "df.drop(['releaseDateTheaters', 'releaseDateStreaming'], axis=1, inplace=True)"
   ]
  },
  {
   "cell_type": "code",
   "execution_count": 6,
   "id": "e594d6c9",
   "metadata": {},
   "outputs": [],
   "source": [
    "df.drop(['distributor', 'soundMix'], axis=1, inplace=True)"
   ]
  },
  {
   "cell_type": "code",
   "execution_count": 7,
   "id": "a074d0e8",
   "metadata": {},
   "outputs": [],
   "source": [
    "#convert combinedReleaseDate to release_year and release_month\n",
    "df['combinedReleaseDate'] = pd.to_datetime(df['combinedReleaseDate'])\n",
    "df['release_year'] = df['combinedReleaseDate'].dt.year\n",
    "df['release_month'] = df['combinedReleaseDate'].dt.month\n",
    "df.drop(columns=['combinedReleaseDate'], inplace=True)"
   ]
  },
  {
   "cell_type": "code",
   "execution_count": 8,
   "id": "9962c349",
   "metadata": {},
   "outputs": [],
   "source": [
    "#converts box office numbers into more useable numbers\n",
    "def preprocess_box_office(value):\n",
    "    value = str(value).replace('$', '') \n",
    "    if value.endswith('M'):\n",
    "        return float(value[:-1]) * 1e6\n",
    "    elif value.endswith('K'):\n",
    "        return float(value[:-1]) * 1e3\n",
    "    else:\n",
    "        return float(value)\n",
    "\n",
    "df['boxOffice'] = df['boxOffice'].apply(preprocess_box_office)"
   ]
  },
  {
   "cell_type": "code",
   "execution_count": 9,
   "id": "acd787aa",
   "metadata": {},
   "outputs": [],
   "source": [
    "#created a dataframe just for box office because it seems to have the most NaN values\n",
    "columns_to_select_box = ['audienceScore', 'tomatoMeter', 'boxOffice']\n",
    "df_box_office = df[columns_to_select_box]\n",
    "df_box_office = df_box_office.dropna()"
   ]
  },
  {
   "cell_type": "code",
   "execution_count": 10,
   "id": "5a5c8c25",
   "metadata": {},
   "outputs": [],
   "source": [
    "#created dataframes for directors and writers for later use\n",
    "columns_to_select = ['audienceScore', 'tomatoMeter', 'director']\n",
    "df_director = df[columns_to_select]\n",
    "\n",
    "columns_to_select_writer = ['audienceScore', 'tomatoMeter', 'writer']\n",
    "df_writer = df[columns_to_select_writer]\n",
    "\n",
    "df_director = df_director.dropna()\n",
    "df_writer = df_writer.dropna()"
   ]
  },
  {
   "cell_type": "code",
   "execution_count": 11,
   "id": "e85c04a7",
   "metadata": {},
   "outputs": [],
   "source": [
    "#created a dataframe with less important features for later use\n",
    "columns_to_select = ['runtimeMinutes', 'release_year', 'release_month', 'audienceScore', 'tomatoMeter']\n",
    "df_other = df[columns_to_select]\n",
    "df = df.drop(['id', 'title', \"boxOffice\"], axis=1)\n",
    "df = df.dropna()"
   ]
  },
  {
   "cell_type": "code",
   "execution_count": 12,
   "id": "134301c4",
   "metadata": {},
   "outputs": [],
   "source": [
    "#function that calculates the smoothed means of directors and writers, created because this code is reused a couple times\n",
    "def calculate_smoothed_means(df, m):\n",
    "    director_stats = df.groupby('director')[['tomatoMeter', 'audienceScore']].agg(['mean', 'count'])\n",
    "\n",
    "    for column in ['tomatoMeter', 'audienceScore']:\n",
    "        director_stats[column, 'smoothed_mean'] = (\n",
    "            (director_stats[column, 'count'] * director_stats[column, 'mean']) + \n",
    "            (m * df[column].mean())\n",
    "        ) / (director_stats[column, 'count'] + m)\n",
    "\n",
    "    director_smoothed_map = {}\n",
    "    for column in ['tomatoMeter', 'audienceScore']:\n",
    "        director_smoothed_map[column] = director_stats[column, 'smoothed_mean'].to_dict()\n",
    "\n",
    "    for column in ['tomatoMeter', 'audienceScore']:\n",
    "        df[f'director_{column}_smoothed_mean'] = df['director'].map(director_smoothed_map[column])\n",
    "\n",
    "    writer_stats = df.groupby('writer')[['tomatoMeter', 'audienceScore']].agg(['mean', 'count'])\n",
    "\n",
    "    for column in ['tomatoMeter', 'audienceScore']:\n",
    "        writer_stats[column, 'smoothed_mean'] = (\n",
    "            (writer_stats[column, 'count'] * writer_stats[column, 'mean']) + \n",
    "            (m * df[column].mean())\n",
    "        ) / (writer_stats[column, 'count'] + m)\n",
    "\n",
    "    writer_smoothed_map = {}\n",
    "    for column in ['tomatoMeter', 'audienceScore']:\n",
    "        writer_smoothed_map[column] = writer_stats[column, 'smoothed_mean'].to_dict()\n",
    "\n",
    "    for column in ['tomatoMeter', 'audienceScore']:\n",
    "        df[f'writer_{column}_smoothed_mean'] = df['writer'].map(writer_smoothed_map[column])\n",
    "    \n",
    "    return df\n",
    "\n",
    "df = calculate_smoothed_means(df, m=0.1)\n"
   ]
  },
  {
   "cell_type": "code",
   "execution_count": 13,
   "id": "40ee8980",
   "metadata": {},
   "outputs": [
    {
     "name": "stderr",
     "output_type": "stream",
     "text": [
      "C:\\Users\\EWH_1\\anaconda3\\lib\\site-packages\\sklearn\\preprocessing\\_encoders.py:828: FutureWarning: `sparse` was renamed to `sparse_output` in version 1.2 and will be removed in 1.4. `sparse_output` is ignored unless you leave `sparse` to its default value.\n",
      "  warnings.warn(\n"
     ]
    }
   ],
   "source": [
    "features = df.drop(['audienceScore', 'tomatoMeter', 'director', 'writer'], axis=1)  \n",
    "\n",
    "categorical_columns = ['originalLanguage']  \n",
    "encoder = OneHotEncoder(drop='first', sparse=False)\n",
    "encoded_categorical = encoder.fit_transform(df[categorical_columns])\n",
    "\n",
    "encoded_feature_names = encoder.get_feature_names_out(input_features=categorical_columns)\n",
    "encoded_categorical_df = pd.DataFrame(encoded_categorical, columns=encoded_feature_names)\n",
    "df = pd.concat([df.reset_index(drop=True), encoded_categorical_df], axis=1)\n",
    "X = pd.concat([features.reset_index(drop=True), encoded_categorical_df], axis=1)\n",
    "X = X.drop(['originalLanguage'], axis=1)\n",
    "y = df[['tomatoMeter', 'audienceScore']]\n"
   ]
  },
  {
   "cell_type": "code",
   "execution_count": 14,
   "id": "c2dd5ac1",
   "metadata": {
    "scrolled": true
   },
   "outputs": [
    {
     "name": "stdout",
     "output_type": "stream",
     "text": [
      "Mean Squared Error: 69.8170246850163\n"
     ]
    }
   ],
   "source": [
    "#first model trained\n",
    "X_train, X_test, y_train, y_test = train_test_split(X, y, test_size=0.2, random_state=42)\n",
    "\n",
    "base_estimator = RandomForestRegressor(random_state=42)\n",
    "\n",
    "# multioutput_regressor = MultiOutputRegressor(base_estimator)\n",
    "# multioutput_regressor.fit(X_train, y_train)\n",
    "\n",
    "model_1 = LinearRegression()\n",
    "model_1.fit(X_train, y_train)\n",
    "y_pred = model_1.predict(X_test)\n",
    "\n",
    "mse = mean_squared_error(y_test, y_pred)\n",
    "print(\"Mean Squared Error:\", mse)"
   ]
  },
  {
   "cell_type": "code",
   "execution_count": 15,
   "id": "5cdbcab1",
   "metadata": {},
   "outputs": [
    {
     "name": "stdout",
     "output_type": "stream",
     "text": [
      "R-squared: 0.8829230154080627\n"
     ]
    }
   ],
   "source": [
    "r_squared = r2_score(y_test, y_pred)\n",
    "print(\"R-squared:\", r_squared)"
   ]
  },
  {
   "cell_type": "code",
   "execution_count": 16,
   "id": "985e180c",
   "metadata": {},
   "outputs": [],
   "source": [
    "m = 0.1\n",
    "\n",
    "director_stats = df_director.groupby('director')[['tomatoMeter', 'audienceScore']].agg(['mean', 'count'])\n",
    "\n",
    "for column in ['tomatoMeter', 'audienceScore']:\n",
    "    director_stats[column, 'smoothed_mean'] = (\n",
    "        (director_stats[column, 'count'] * director_stats[column, 'mean']) + \n",
    "        (m * df_director[column].mean())\n",
    "    ) / (director_stats[column, 'count'] + m)\n",
    "\n",
    "director_smoothed_map = {}\n",
    "for column in ['tomatoMeter', 'audienceScore']:\n",
    "    director_smoothed_map[column] = director_stats[column, 'smoothed_mean'].to_dict()\n",
    "\n",
    "for column in ['tomatoMeter', 'audienceScore']:\n",
    "    df_director[f'director_{column}_smoothed_mean'] = df_director['director'].map(director_smoothed_map[column])\n",
    "\n",
    "writer_stats = df_writer.groupby('writer')[['tomatoMeter', 'audienceScore']].agg(['mean', 'count'])\n",
    "\n",
    "for column in ['tomatoMeter', 'audienceScore']:\n",
    "    writer_stats[column, 'smoothed_mean'] = (\n",
    "        (writer_stats[column, 'count'] * writer_stats[column, 'mean']) + \n",
    "        (m * df_writer[column].mean())\n",
    "    ) / (writer_stats[column, 'count'] + m)\n",
    "\n",
    "writer_smoothed_map = {}\n",
    "for column in ['tomatoMeter', 'audienceScore']:\n",
    "    writer_smoothed_map[column] = writer_stats[column, 'smoothed_mean'].to_dict()\n",
    "\n",
    "for column in ['tomatoMeter', 'audienceScore']:\n",
    "    df_writer[f'writer_{column}_smoothed_mean'] = df_writer['writer'].map(writer_smoothed_map[column])"
   ]
  },
  {
   "cell_type": "code",
   "execution_count": 17,
   "id": "518b6436",
   "metadata": {},
   "outputs": [],
   "source": [
    "#features and target for directors and writers\n",
    "X_director = df_director[['director_tomatoMeter_smoothed_mean', 'director_audienceScore_smoothed_mean']]\n",
    "y_director = df_director[['tomatoMeter', 'audienceScore']]\n",
    "\n",
    "X_writer = df_writer[['writer_tomatoMeter_smoothed_mean', 'writer_audienceScore_smoothed_mean']]\n",
    "y_writer = df_writer[['tomatoMeter', 'audienceScore']]"
   ]
  },
  {
   "cell_type": "code",
   "execution_count": 18,
   "id": "b421b21c",
   "metadata": {},
   "outputs": [
    {
     "name": "stdout",
     "output_type": "stream",
     "text": [
      "MSE for director and writer model: 205.45602540514565\n"
     ]
    }
   ],
   "source": [
    "#training director model\n",
    "X_train_director, X_test_director, y_train_director, y_test_director = train_test_split(X_director, y_director, test_size=0.2, random_state=42)\n",
    "\n",
    "model_director = LinearRegression()\n",
    "model_director.fit(X_train_director, y_train_director)\n",
    "\n",
    "y_pred_director = model_director.predict(X_test_director)\n",
    "mse_director = mean_squared_error(y_test_director, y_pred_director)\n",
    "print(\"MSE for director and writer model:\", mse_director)"
   ]
  },
  {
   "cell_type": "code",
   "execution_count": 19,
   "id": "17a12e29",
   "metadata": {},
   "outputs": [
    {
     "name": "stdout",
     "output_type": "stream",
     "text": [
      "R-squared: 0.6632966459572744\n"
     ]
    }
   ],
   "source": [
    "r_squared_director = r2_score(y_test_director, y_pred_director)\n",
    "print(\"R-squared:\", r_squared_director)"
   ]
  },
  {
   "cell_type": "code",
   "execution_count": 20,
   "id": "486d1d83",
   "metadata": {},
   "outputs": [
    {
     "name": "stdout",
     "output_type": "stream",
     "text": [
      "MSE for writer model: 78.51693745731163\n"
     ]
    }
   ],
   "source": [
    "#training writer model\n",
    "X_train_writer, X_test_writer, y_train_writer, y_test_writer = train_test_split(X_writer, y_writer, test_size=0.2, random_state=42)\n",
    "\n",
    "model_writer = LinearRegression()\n",
    "model_writer.fit(X_train_writer, y_train_writer)\n",
    "\n",
    "y_pred_writer = model_writer.predict(X_test_writer)\n",
    "mse_writer = mean_squared_error(y_test_writer, y_pred_writer)\n",
    "print(\"MSE for writer model:\", mse_writer)"
   ]
  },
  {
   "cell_type": "code",
   "execution_count": 21,
   "id": "60690c65",
   "metadata": {},
   "outputs": [
    {
     "name": "stdout",
     "output_type": "stream",
     "text": [
      "R-squared: 0.8641949258821622\n"
     ]
    }
   ],
   "source": [
    "r_squared_writer = r2_score(y_test_writer, y_pred_writer)\n",
    "print(\"R-squared:\", r_squared_writer)"
   ]
  },
  {
   "cell_type": "code",
   "execution_count": 22,
   "id": "b69e6d2f",
   "metadata": {},
   "outputs": [
    {
     "name": "stdout",
     "output_type": "stream",
     "text": [
      "MSE for other features model: 599.2608379422254\n"
     ]
    }
   ],
   "source": [
    "#model with other features\n",
    "df_other = df_other.dropna()\n",
    "X_other = df_other.drop(['tomatoMeter', 'audienceScore'], axis=1)\n",
    "y_other = df_other[['tomatoMeter', 'audienceScore']]\n",
    "\n",
    "X_train_other, X_test_other, y_train_other, y_test_other = train_test_split(X_other, y_other, test_size=0.2, random_state=42)\n",
    "\n",
    "model_other = LinearRegression()\n",
    "model_other.fit(X_train_other, y_train_other)\n",
    "\n",
    "y_pred_other = model_other.predict(X_test_other)\n",
    "mse_other = mean_squared_error(y_test_other, y_pred_other)\n",
    "print(\"MSE for other features model:\", mse_other)"
   ]
  },
  {
   "cell_type": "code",
   "execution_count": 23,
   "id": "746a1984",
   "metadata": {},
   "outputs": [
    {
     "name": "stdout",
     "output_type": "stream",
     "text": [
      "R-squared: 0.026360070158132964\n"
     ]
    }
   ],
   "source": [
    "r_squared_other = r2_score(y_test_other, y_pred_other)\n",
    "print(\"R-squared:\", r_squared_other)"
   ]
  },
  {
   "cell_type": "code",
   "execution_count": 24,
   "id": "72866715",
   "metadata": {},
   "outputs": [
    {
     "name": "stdout",
     "output_type": "stream",
     "text": [
      "MSE for box office model: 573.5385992075446\n"
     ]
    }
   ],
   "source": [
    "#box office model\n",
    "X_box_office = df_box_office.drop(['tomatoMeter', 'audienceScore'], axis=1)\n",
    "y_box_office = df_box_office[['tomatoMeter', 'audienceScore']]\n",
    "\n",
    "X_train_box_office, X_test_box_office, y_train_box_office, y_test_box_office = train_test_split(X_box_office, y_box_office, test_size=0.2, random_state=42)\n",
    "\n",
    "model_box_office = LinearRegression()\n",
    "model_box_office.fit(X_train_box_office, y_train_box_office)\n",
    "\n",
    "y_pred_box_office = model_box_office.predict(X_test_box_office)\n",
    "mse_box_office = mean_squared_error(y_test_box_office, y_pred_box_office)\n",
    "print(\"MSE for box office model:\", mse_box_office)"
   ]
  },
  {
   "cell_type": "code",
   "execution_count": 25,
   "id": "dde2cdeb",
   "metadata": {},
   "outputs": [
    {
     "name": "stdout",
     "output_type": "stream",
     "text": [
      "R-squared: 0.004321882246269504\n"
     ]
    }
   ],
   "source": [
    "r_squared_box_office = r2_score(y_test_box_office, y_pred_box_office)\n",
    "print(\"R-squared:\", r_squared_box_office)"
   ]
  },
  {
   "cell_type": "code",
   "execution_count": 26,
   "id": "cc6f0509",
   "metadata": {},
   "outputs": [],
   "source": [
    "#testing out if giving each writer and director a unique id trains better\n",
    "director_mapping = pd.DataFrame({'director': df['director'].unique()})\n",
    "director_mapping['director_id'] = range(1, len(director_mapping) + 1)\n",
    "\n",
    "writer_mapping = pd.DataFrame({'writer': df['writer'].unique()})\n",
    "writer_mapping['writer_id'] = range(1, len(writer_mapping) + 1)"
   ]
  },
  {
   "cell_type": "code",
   "execution_count": 27,
   "id": "dd64735f",
   "metadata": {},
   "outputs": [],
   "source": [
    "df = df.merge(director_mapping, on='director', how='left')\n",
    "df = df.merge(writer_mapping, on='writer', how='left')"
   ]
  },
  {
   "cell_type": "code",
   "execution_count": 28,
   "id": "b23e3183",
   "metadata": {},
   "outputs": [
    {
     "name": "stdout",
     "output_type": "stream",
     "text": [
      "MSE for id model: 488.69524535044866\n"
     ]
    }
   ],
   "source": [
    "#training the director and writer id model\n",
    "X_id = df.drop(['tomatoMeter', 'audienceScore', 'director', 'writer', 'originalLanguage', 'director_tomatoMeter_smoothed_mean', \n",
    "                     'director_audienceScore_smoothed_mean', 'writer_tomatoMeter_smoothed_mean', 'writer_audienceScore_smoothed_mean'\n",
    "                    , ],axis=1)\n",
    "y_id = df[['tomatoMeter', 'audienceScore']]\n",
    "\n",
    "X_train_id, X_test_id, y_train_id, y_test_id = train_test_split(X_id, y_id, test_size=0.2, random_state=42)\n",
    "\n",
    "model_id = LinearRegression()\n",
    "model_id.fit(X_train_id, y_train_id)\n",
    "\n",
    "y_pred_id = model_id.predict(X_test_id)\n",
    "mse_id = mean_squared_error(y_test_id, y_pred_id)\n",
    "print(\"MSE for id model:\", mse_id)"
   ]
  },
  {
   "cell_type": "code",
   "execution_count": 29,
   "id": "d3612ac0",
   "metadata": {},
   "outputs": [
    {
     "name": "stdout",
     "output_type": "stream",
     "text": [
      "R-squared: 0.20029017437931135\n"
     ]
    }
   ],
   "source": [
    "r_squared_id = r2_score(y_test_id, y_pred_id)\n",
    "print(\"R-squared:\", r_squared_id)"
   ]
  },
  {
   "cell_type": "code",
   "execution_count": 30,
   "id": "6951bb8a",
   "metadata": {},
   "outputs": [
    {
     "data": {
      "text/html": [
       "<div>\n",
       "<style scoped>\n",
       "    .dataframe tbody tr th:only-of-type {\n",
       "        vertical-align: middle;\n",
       "    }\n",
       "\n",
       "    .dataframe tbody tr th {\n",
       "        vertical-align: top;\n",
       "    }\n",
       "\n",
       "    .dataframe thead th {\n",
       "        text-align: right;\n",
       "    }\n",
       "</style>\n",
       "<table border=\"1\" class=\"dataframe\">\n",
       "  <thead>\n",
       "    <tr style=\"text-align: right;\">\n",
       "      <th></th>\n",
       "      <th>audienceScore</th>\n",
       "      <th>tomatoMeter</th>\n",
       "      <th>runtimeMinutes</th>\n",
       "      <th>originalLanguage</th>\n",
       "      <th>director</th>\n",
       "      <th>writer</th>\n",
       "      <th>Adventure</th>\n",
       "      <th>Animation</th>\n",
       "      <th>Anime</th>\n",
       "      <th>Biography</th>\n",
       "      <th>...</th>\n",
       "      <th>originalLanguage_Urdu</th>\n",
       "      <th>originalLanguage_Vietnamese</th>\n",
       "      <th>originalLanguage_Welsh</th>\n",
       "      <th>originalLanguage_Wolof</th>\n",
       "      <th>originalLanguage_Xhosa</th>\n",
       "      <th>originalLanguage_Yiddish</th>\n",
       "      <th>originalLanguage_Zulu</th>\n",
       "      <th>originalLanguage_shg</th>\n",
       "      <th>director_id</th>\n",
       "      <th>writer_id</th>\n",
       "    </tr>\n",
       "  </thead>\n",
       "  <tbody>\n",
       "    <tr>\n",
       "      <th>0</th>\n",
       "      <td>65.0</td>\n",
       "      <td>69.0</td>\n",
       "      <td>120.0</td>\n",
       "      <td>English</td>\n",
       "      <td>Baltasar Kormákur</td>\n",
       "      <td>Aaron Kandell</td>\n",
       "      <td>1.0</td>\n",
       "      <td>0.0</td>\n",
       "      <td>0.0</td>\n",
       "      <td>0.0</td>\n",
       "      <td>...</td>\n",
       "      <td>0.0</td>\n",
       "      <td>0.0</td>\n",
       "      <td>0.0</td>\n",
       "      <td>0.0</td>\n",
       "      <td>0.0</td>\n",
       "      <td>0.0</td>\n",
       "      <td>0.0</td>\n",
       "      <td>0.0</td>\n",
       "      <td>1</td>\n",
       "      <td>1</td>\n",
       "    </tr>\n",
       "    <tr>\n",
       "      <th>1</th>\n",
       "      <td>65.0</td>\n",
       "      <td>69.0</td>\n",
       "      <td>120.0</td>\n",
       "      <td>English</td>\n",
       "      <td>Baltasar Kormákur</td>\n",
       "      <td>Jordan Kandell</td>\n",
       "      <td>1.0</td>\n",
       "      <td>0.0</td>\n",
       "      <td>0.0</td>\n",
       "      <td>0.0</td>\n",
       "      <td>...</td>\n",
       "      <td>0.0</td>\n",
       "      <td>0.0</td>\n",
       "      <td>0.0</td>\n",
       "      <td>0.0</td>\n",
       "      <td>0.0</td>\n",
       "      <td>0.0</td>\n",
       "      <td>0.0</td>\n",
       "      <td>0.0</td>\n",
       "      <td>1</td>\n",
       "      <td>1</td>\n",
       "    </tr>\n",
       "    <tr>\n",
       "      <th>2</th>\n",
       "      <td>65.0</td>\n",
       "      <td>69.0</td>\n",
       "      <td>120.0</td>\n",
       "      <td>English</td>\n",
       "      <td>Baltasar Kormákur</td>\n",
       "      <td>David Branson Smith</td>\n",
       "      <td>1.0</td>\n",
       "      <td>0.0</td>\n",
       "      <td>0.0</td>\n",
       "      <td>0.0</td>\n",
       "      <td>...</td>\n",
       "      <td>0.0</td>\n",
       "      <td>0.0</td>\n",
       "      <td>0.0</td>\n",
       "      <td>0.0</td>\n",
       "      <td>0.0</td>\n",
       "      <td>0.0</td>\n",
       "      <td>0.0</td>\n",
       "      <td>0.0</td>\n",
       "      <td>1</td>\n",
       "      <td>1</td>\n",
       "    </tr>\n",
       "    <tr>\n",
       "      <th>3</th>\n",
       "      <td>74.0</td>\n",
       "      <td>83.0</td>\n",
       "      <td>92.0</td>\n",
       "      <td>English</td>\n",
       "      <td>Robert Wise</td>\n",
       "      <td>Eve Greene</td>\n",
       "      <td>0.0</td>\n",
       "      <td>0.0</td>\n",
       "      <td>0.0</td>\n",
       "      <td>0.0</td>\n",
       "      <td>...</td>\n",
       "      <td>0.0</td>\n",
       "      <td>0.0</td>\n",
       "      <td>0.0</td>\n",
       "      <td>0.0</td>\n",
       "      <td>0.0</td>\n",
       "      <td>0.0</td>\n",
       "      <td>0.0</td>\n",
       "      <td>0.0</td>\n",
       "      <td>2</td>\n",
       "      <td>2</td>\n",
       "    </tr>\n",
       "    <tr>\n",
       "      <th>4</th>\n",
       "      <td>74.0</td>\n",
       "      <td>83.0</td>\n",
       "      <td>92.0</td>\n",
       "      <td>English</td>\n",
       "      <td>Robert Wise</td>\n",
       "      <td>Richard Macaulay</td>\n",
       "      <td>0.0</td>\n",
       "      <td>0.0</td>\n",
       "      <td>0.0</td>\n",
       "      <td>0.0</td>\n",
       "      <td>...</td>\n",
       "      <td>0.0</td>\n",
       "      <td>0.0</td>\n",
       "      <td>0.0</td>\n",
       "      <td>0.0</td>\n",
       "      <td>0.0</td>\n",
       "      <td>0.0</td>\n",
       "      <td>0.0</td>\n",
       "      <td>0.0</td>\n",
       "      <td>2</td>\n",
       "      <td>2</td>\n",
       "    </tr>\n",
       "  </tbody>\n",
       "</table>\n",
       "<p>5 rows × 138 columns</p>\n",
       "</div>"
      ],
      "text/plain": [
       "   audienceScore  tomatoMeter  runtimeMinutes originalLanguage  \\\n",
       "0           65.0         69.0           120.0          English   \n",
       "1           65.0         69.0           120.0          English   \n",
       "2           65.0         69.0           120.0          English   \n",
       "3           74.0         83.0            92.0          English   \n",
       "4           74.0         83.0            92.0          English   \n",
       "\n",
       "            director               writer  Adventure  Animation  Anime  \\\n",
       "0  Baltasar Kormákur        Aaron Kandell        1.0        0.0    0.0   \n",
       "1  Baltasar Kormákur       Jordan Kandell        1.0        0.0    0.0   \n",
       "2  Baltasar Kormákur  David Branson Smith        1.0        0.0    0.0   \n",
       "3        Robert Wise           Eve Greene        0.0        0.0    0.0   \n",
       "4        Robert Wise     Richard Macaulay        0.0        0.0    0.0   \n",
       "\n",
       "   Biography  ...  originalLanguage_Urdu  originalLanguage_Vietnamese  \\\n",
       "0        0.0  ...                    0.0                          0.0   \n",
       "1        0.0  ...                    0.0                          0.0   \n",
       "2        0.0  ...                    0.0                          0.0   \n",
       "3        0.0  ...                    0.0                          0.0   \n",
       "4        0.0  ...                    0.0                          0.0   \n",
       "\n",
       "   originalLanguage_Welsh  originalLanguage_Wolof  originalLanguage_Xhosa  \\\n",
       "0                     0.0                     0.0                     0.0   \n",
       "1                     0.0                     0.0                     0.0   \n",
       "2                     0.0                     0.0                     0.0   \n",
       "3                     0.0                     0.0                     0.0   \n",
       "4                     0.0                     0.0                     0.0   \n",
       "\n",
       "   originalLanguage_Yiddish  originalLanguage_Zulu  originalLanguage_shg  \\\n",
       "0                       0.0                    0.0                   0.0   \n",
       "1                       0.0                    0.0                   0.0   \n",
       "2                       0.0                    0.0                   0.0   \n",
       "3                       0.0                    0.0                   0.0   \n",
       "4                       0.0                    0.0                   0.0   \n",
       "\n",
       "   director_id  writer_id  \n",
       "0            1          1  \n",
       "1            1          1  \n",
       "2            1          1  \n",
       "3            2          2  \n",
       "4            2          2  \n",
       "\n",
       "[5 rows x 138 columns]"
      ]
     },
     "execution_count": 30,
     "metadata": {},
     "output_type": "execute_result"
    }
   ],
   "source": [
    "# creating a \"long\" dataframe rows with multiple directors or writers will be split into multiple individual rows\n",
    "df['director'] = df['director'].str.split(',')\n",
    "df['writer'] = df['writer'].str.split(',')\n",
    "\n",
    "df_long = df.explode('director').explode('writer').reset_index(drop=True)\n",
    "df_long.head()"
   ]
  },
  {
   "cell_type": "code",
   "execution_count": 31,
   "id": "6e7a82a1",
   "metadata": {
    "scrolled": true
   },
   "outputs": [],
   "source": [
    "#use the function from before\n",
    "df_long = calculate_smoothed_means(df_long, m=0.1)"
   ]
  },
  {
   "cell_type": "code",
   "execution_count": 32,
   "id": "e3875544",
   "metadata": {},
   "outputs": [
    {
     "name": "stdout",
     "output_type": "stream",
     "text": [
      "MSE for long model: 137.75685462736257\n"
     ]
    }
   ],
   "source": [
    "#training long df\n",
    "X_long = df_long.drop(['tomatoMeter', 'audienceScore', 'director', 'writer', 'originalLanguage'], axis=1)\n",
    "y_long = df_long[['tomatoMeter', 'audienceScore']]\n",
    "\n",
    "X_train_long, X_test_long, y_train_long, y_test_long = train_test_split(X_long, y_long, test_size=0.2, random_state=42)\n",
    "\n",
    "model_long = LinearRegression()\n",
    "model_long.fit(X_train_long, y_train_long)\n",
    "\n",
    "y_pred_long = model_long.predict(X_test_long)\n",
    "mse_long = mean_squared_error(y_test_long, y_pred_long)\n",
    "print(\"MSE for long model:\", mse_long)\n"
   ]
  },
  {
   "cell_type": "code",
   "execution_count": 33,
   "id": "dbf8a967",
   "metadata": {},
   "outputs": [
    {
     "name": "stdout",
     "output_type": "stream",
     "text": [
      "R-squared: 0.7715308472480359\n"
     ]
    }
   ],
   "source": [
    "r_squared_long = r2_score(y_test_long, y_pred_long)\n",
    "print(\"R-squared:\", r_squared_long)"
   ]
  },
  {
   "cell_type": "code",
   "execution_count": 38,
   "id": "8648bd20",
   "metadata": {},
   "outputs": [
    {
     "name": "stdout",
     "output_type": "stream",
     "text": [
      "MSE for id_long model: 484.07300290932614\n"
     ]
    }
   ],
   "source": [
    "# training long df with ids\n",
    "X_id_long = df_long.drop(['tomatoMeter', 'audienceScore', 'director', 'writer', 'originalLanguage', 'director_tomatoMeter_smoothed_mean', \n",
    "                     'director_audienceScore_smoothed_mean', 'writer_tomatoMeter_smoothed_mean', 'writer_audienceScore_smoothed_mean'\n",
    "                    , ],axis=1)\n",
    "y_id_long = df_long[['tomatoMeter', 'audienceScore']]\n",
    "\n",
    "X_train_id_long, X_test_id_long, y_train_id_long, y_test_id_long = train_test_split(X_id_long, y_id_long, test_size=0.2, random_state=42)\n",
    "\n",
    "model_id_long = LinearRegression()\n",
    "model_id_long.fit(X_train_id_long, y_train_id_long)\n",
    "\n",
    "y_pred_id_long = model_id_long.predict(X_test_id_long)\n",
    "mse_id_long = mean_squared_error(y_test_id_long, y_pred_id_long)\n",
    "print(\"MSE for id_long model:\", mse_id_long)\n"
   ]
  },
  {
   "cell_type": "code",
   "execution_count": 39,
   "id": "83323bfc",
   "metadata": {},
   "outputs": [
    {
     "name": "stdout",
     "output_type": "stream",
     "text": [
      "R-squared: 0.21627874885530174\n"
     ]
    }
   ],
   "source": [
    "r_squared_id_long = r2_score(y_test_id_long, y_pred_id_long)\n",
    "print(\"R-squared:\", r_squared_id_long)"
   ]
  }
 ],
 "metadata": {
  "kernelspec": {
   "display_name": "Python 3 (ipykernel)",
   "language": "python",
   "name": "python3"
  },
  "language_info": {
   "codemirror_mode": {
    "name": "ipython",
    "version": 3
   },
   "file_extension": ".py",
   "mimetype": "text/x-python",
   "name": "python",
   "nbconvert_exporter": "python",
   "pygments_lexer": "ipython3",
   "version": "3.10.9"
  }
 },
 "nbformat": 4,
 "nbformat_minor": 5
}
